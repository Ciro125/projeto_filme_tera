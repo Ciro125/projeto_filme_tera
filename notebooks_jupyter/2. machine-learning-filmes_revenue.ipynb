{
  "cells": [
    {
      "cell_type": "code",
      "execution_count": 17,
      "metadata": {
        "id": "WFQYBRtn7Xr_"
      },
      "outputs": [],
      "source": [
        "import pandas as pd\n",
        "import numpy as np\n",
        "from numpy import genfromtxt\n",
        "import matplotlib.pyplot as plt\n",
        "import seaborn as sns\n",
        "import joblib\n",
        "\n",
        "import pickle\n",
        "from sklearn.model_selection import train_test_split, cross_val_score, GridSearchCV\n",
        "from sklearn.preprocessing import StandardScaler, MinMaxScaler\n",
        "from sklearn.pipeline import Pipeline\n",
        "from sklearn.linear_model import LinearRegression\n",
        "from sklearn.metrics import confusion_matrix, accuracy_score, classification_report\n",
        "from sklearn.metrics import precision_recall_curve, roc_curve, roc_auc_score\n",
        "from sklearn.ensemble import RandomForestClassifier\n",
        "import xgboost as xgb\n",
        "from sklearn.svm import SVC\n",
        "\n",
        "from imblearn.under_sampling import ClusterCentroids\n",
        "from sklearn.model_selection import train_test_split\n",
        "from sklearn.metrics import confusion_matrix\n",
        "from sklearn.metrics import mean_squared_error, r2_score\n"
      ]
    },
    {
      "cell_type": "code",
      "execution_count": 3,
      "metadata": {
        "id": "6B5SNTIW7XsE"
      },
      "outputs": [],
      "source": [
        "df = pd.read_csv(r'C:\\Users\\cmcampos.REDESESCRIO\\Desktop\\Filmes Tera\\projeto_filme_tera\\bases de dado\\dados_para_split_revenue.csv')"
      ]
    },
    {
      "cell_type": "markdown",
      "metadata": {
        "id": "WJnF2C7L7XsF"
      },
      "source": [
        "### MACHINE LEARNING"
      ]
    },
    {
      "cell_type": "code",
      "execution_count": 5,
      "metadata": {
        "id": "tpbi0GZwPej3"
      },
      "outputs": [],
      "source": [
        "df['Budget ($million)'] = df['Budget ($million)'].astype(float)\n",
        "df['Opening weekend ($million)'] = df['Opening weekend ($million)'].astype(float)"
      ]
    },
    {
      "cell_type": "code",
      "execution_count": 6,
      "metadata": {
        "colab": {
          "base_uri": "https://localhost:8080/"
        },
        "id": "eBSqmRGdP3Ih",
        "outputId": "fb8eb97b-9127-44ae-e653-7d37a3bea891"
      },
      "outputs": [
        {
          "name": "stdout",
          "output_type": "stream",
          "text": [
            "Budget ($million)              float64\n",
            "Opening weekend ($million)     float64\n",
            "Oscar Winners                    int64\n",
            "Runtime (Minutes)              float64\n",
            "Action                         float64\n",
            "                                ...   \n",
            "Director_William Brent Bell    float64\n",
            "Director_Woody Allen           float64\n",
            "Director_Yimou Zhang           float64\n",
            "Director_Yorgos Lanthimos      float64\n",
            "Director_Zack Snyder           float64\n",
            "Length: 380, dtype: object\n"
          ]
        }
      ],
      "source": [
        "tipos_de_coluna = df.dtypes\n",
        "print(tipos_de_coluna)"
      ]
    },
    {
      "cell_type": "code",
      "execution_count": 7,
      "metadata": {
        "colab": {
          "base_uri": "https://localhost:8080/",
          "height": 461
        },
        "id": "7eD7qWy2JF38",
        "outputId": "1bb3de9a-53e7-4912-961f-261038803af4"
      },
      "outputs": [
        {
          "data": {
            "text/html": [
              "<div>\n",
              "<style scoped>\n",
              "    .dataframe tbody tr th:only-of-type {\n",
              "        vertical-align: middle;\n",
              "    }\n",
              "\n",
              "    .dataframe tbody tr th {\n",
              "        vertical-align: top;\n",
              "    }\n",
              "\n",
              "    .dataframe thead th {\n",
              "        text-align: right;\n",
              "    }\n",
              "</style>\n",
              "<table border=\"1\" class=\"dataframe\">\n",
              "  <thead>\n",
              "    <tr style=\"text-align: right;\">\n",
              "      <th></th>\n",
              "      <th>Budget ($million)</th>\n",
              "      <th>Opening weekend ($million)</th>\n",
              "      <th>Oscar Winners</th>\n",
              "      <th>Runtime (Minutes)</th>\n",
              "      <th>Action</th>\n",
              "      <th>Adventure</th>\n",
              "      <th>Animation</th>\n",
              "      <th>Biography</th>\n",
              "      <th>Comedy</th>\n",
              "      <th>Crime</th>\n",
              "      <th>...</th>\n",
              "      <th>Director_Wes Anderson</th>\n",
              "      <th>Director_Wes Ball</th>\n",
              "      <th>Director_Wes Craven</th>\n",
              "      <th>Director_Whit Stillman</th>\n",
              "      <th>Director_Will Gluck</th>\n",
              "      <th>Director_William Brent Bell</th>\n",
              "      <th>Director_Woody Allen</th>\n",
              "      <th>Director_Yimou Zhang</th>\n",
              "      <th>Director_Yorgos Lanthimos</th>\n",
              "      <th>Director_Zack Snyder</th>\n",
              "    </tr>\n",
              "  </thead>\n",
              "  <tbody>\n",
              "    <tr>\n",
              "      <th>0</th>\n",
              "      <td>0.00</td>\n",
              "      <td>0.123360</td>\n",
              "      <td>0</td>\n",
              "      <td>118.0</td>\n",
              "      <td>0.0</td>\n",
              "      <td>0.0</td>\n",
              "      <td>0.0</td>\n",
              "      <td>1.0</td>\n",
              "      <td>0.0</td>\n",
              "      <td>0.0</td>\n",
              "      <td>...</td>\n",
              "      <td>0.0</td>\n",
              "      <td>0.0</td>\n",
              "      <td>0.0</td>\n",
              "      <td>0.0</td>\n",
              "      <td>0.0</td>\n",
              "      <td>0.0</td>\n",
              "      <td>0.0</td>\n",
              "      <td>0.0</td>\n",
              "      <td>0.0</td>\n",
              "      <td>0.0</td>\n",
              "    </tr>\n",
              "    <tr>\n",
              "      <th>1</th>\n",
              "      <td>0.45</td>\n",
              "      <td>8.111264</td>\n",
              "      <td>0</td>\n",
              "      <td>103.0</td>\n",
              "      <td>1.0</td>\n",
              "      <td>0.0</td>\n",
              "      <td>0.0</td>\n",
              "      <td>0.0</td>\n",
              "      <td>0.0</td>\n",
              "      <td>0.0</td>\n",
              "      <td>...</td>\n",
              "      <td>0.0</td>\n",
              "      <td>0.0</td>\n",
              "      <td>0.0</td>\n",
              "      <td>0.0</td>\n",
              "      <td>0.0</td>\n",
              "      <td>0.0</td>\n",
              "      <td>0.0</td>\n",
              "      <td>0.0</td>\n",
              "      <td>0.0</td>\n",
              "      <td>0.0</td>\n",
              "    </tr>\n",
              "    <tr>\n",
              "      <th>2</th>\n",
              "      <td>1.50</td>\n",
              "      <td>13.270000</td>\n",
              "      <td>0</td>\n",
              "      <td>103.0</td>\n",
              "      <td>0.0</td>\n",
              "      <td>0.0</td>\n",
              "      <td>0.0</td>\n",
              "      <td>0.0</td>\n",
              "      <td>0.0</td>\n",
              "      <td>0.0</td>\n",
              "      <td>...</td>\n",
              "      <td>0.0</td>\n",
              "      <td>0.0</td>\n",
              "      <td>0.0</td>\n",
              "      <td>0.0</td>\n",
              "      <td>0.0</td>\n",
              "      <td>0.0</td>\n",
              "      <td>0.0</td>\n",
              "      <td>0.0</td>\n",
              "      <td>0.0</td>\n",
              "      <td>0.0</td>\n",
              "    </tr>\n",
              "    <tr>\n",
              "      <th>3</th>\n",
              "      <td>6.50</td>\n",
              "      <td>37.134255</td>\n",
              "      <td>0</td>\n",
              "      <td>99.0</td>\n",
              "      <td>0.0</td>\n",
              "      <td>0.0</td>\n",
              "      <td>0.0</td>\n",
              "      <td>0.0</td>\n",
              "      <td>0.0</td>\n",
              "      <td>0.0</td>\n",
              "      <td>...</td>\n",
              "      <td>0.0</td>\n",
              "      <td>0.0</td>\n",
              "      <td>0.0</td>\n",
              "      <td>0.0</td>\n",
              "      <td>0.0</td>\n",
              "      <td>0.0</td>\n",
              "      <td>0.0</td>\n",
              "      <td>0.0</td>\n",
              "      <td>0.0</td>\n",
              "      <td>0.0</td>\n",
              "    </tr>\n",
              "    <tr>\n",
              "      <th>4</th>\n",
              "      <td>9.00</td>\n",
              "      <td>40.010975</td>\n",
              "      <td>0</td>\n",
              "      <td>117.0</td>\n",
              "      <td>0.0</td>\n",
              "      <td>0.0</td>\n",
              "      <td>0.0</td>\n",
              "      <td>0.0</td>\n",
              "      <td>0.0</td>\n",
              "      <td>0.0</td>\n",
              "      <td>...</td>\n",
              "      <td>0.0</td>\n",
              "      <td>0.0</td>\n",
              "      <td>0.0</td>\n",
              "      <td>0.0</td>\n",
              "      <td>0.0</td>\n",
              "      <td>0.0</td>\n",
              "      <td>0.0</td>\n",
              "      <td>0.0</td>\n",
              "      <td>0.0</td>\n",
              "      <td>0.0</td>\n",
              "    </tr>\n",
              "    <tr>\n",
              "      <th>...</th>\n",
              "      <td>...</td>\n",
              "      <td>...</td>\n",
              "      <td>...</td>\n",
              "      <td>...</td>\n",
              "      <td>...</td>\n",
              "      <td>...</td>\n",
              "      <td>...</td>\n",
              "      <td>...</td>\n",
              "      <td>...</td>\n",
              "      <td>...</td>\n",
              "      <td>...</td>\n",
              "      <td>...</td>\n",
              "      <td>...</td>\n",
              "      <td>...</td>\n",
              "      <td>...</td>\n",
              "      <td>...</td>\n",
              "      <td>...</td>\n",
              "      <td>...</td>\n",
              "      <td>...</td>\n",
              "      <td>...</td>\n",
              "      <td>...</td>\n",
              "    </tr>\n",
              "    <tr>\n",
              "      <th>501</th>\n",
              "      <td>60.00</td>\n",
              "      <td>3.704749</td>\n",
              "      <td>0</td>\n",
              "      <td>90.0</td>\n",
              "      <td>0.0</td>\n",
              "      <td>1.0</td>\n",
              "      <td>1.0</td>\n",
              "      <td>0.0</td>\n",
              "      <td>1.0</td>\n",
              "      <td>0.0</td>\n",
              "      <td>...</td>\n",
              "      <td>0.0</td>\n",
              "      <td>0.0</td>\n",
              "      <td>0.0</td>\n",
              "      <td>0.0</td>\n",
              "      <td>0.0</td>\n",
              "      <td>0.0</td>\n",
              "      <td>0.0</td>\n",
              "      <td>0.0</td>\n",
              "      <td>0.0</td>\n",
              "      <td>0.0</td>\n",
              "    </tr>\n",
              "    <tr>\n",
              "      <th>502</th>\n",
              "      <td>65.00</td>\n",
              "      <td>0.033336</td>\n",
              "      <td>0</td>\n",
              "      <td>129.0</td>\n",
              "      <td>0.0</td>\n",
              "      <td>0.0</td>\n",
              "      <td>0.0</td>\n",
              "      <td>0.0</td>\n",
              "      <td>0.0</td>\n",
              "      <td>1.0</td>\n",
              "      <td>...</td>\n",
              "      <td>0.0</td>\n",
              "      <td>0.0</td>\n",
              "      <td>0.0</td>\n",
              "      <td>0.0</td>\n",
              "      <td>0.0</td>\n",
              "      <td>0.0</td>\n",
              "      <td>0.0</td>\n",
              "      <td>0.0</td>\n",
              "      <td>0.0</td>\n",
              "      <td>0.0</td>\n",
              "    </tr>\n",
              "    <tr>\n",
              "      <th>503</th>\n",
              "      <td>50.00</td>\n",
              "      <td>0.130880</td>\n",
              "      <td>0</td>\n",
              "      <td>161.0</td>\n",
              "      <td>0.0</td>\n",
              "      <td>1.0</td>\n",
              "      <td>0.0</td>\n",
              "      <td>0.0</td>\n",
              "      <td>0.0</td>\n",
              "      <td>0.0</td>\n",
              "      <td>...</td>\n",
              "      <td>0.0</td>\n",
              "      <td>0.0</td>\n",
              "      <td>0.0</td>\n",
              "      <td>0.0</td>\n",
              "      <td>0.0</td>\n",
              "      <td>0.0</td>\n",
              "      <td>0.0</td>\n",
              "      <td>0.0</td>\n",
              "      <td>0.0</td>\n",
              "      <td>0.0</td>\n",
              "    </tr>\n",
              "    <tr>\n",
              "      <th>504</th>\n",
              "      <td>7.00</td>\n",
              "      <td>0.111200</td>\n",
              "      <td>0</td>\n",
              "      <td>119.0</td>\n",
              "      <td>0.0</td>\n",
              "      <td>0.0</td>\n",
              "      <td>0.0</td>\n",
              "      <td>0.0</td>\n",
              "      <td>1.0</td>\n",
              "      <td>0.0</td>\n",
              "      <td>...</td>\n",
              "      <td>0.0</td>\n",
              "      <td>0.0</td>\n",
              "      <td>0.0</td>\n",
              "      <td>0.0</td>\n",
              "      <td>0.0</td>\n",
              "      <td>0.0</td>\n",
              "      <td>0.0</td>\n",
              "      <td>0.0</td>\n",
              "      <td>0.0</td>\n",
              "      <td>0.0</td>\n",
              "    </tr>\n",
              "    <tr>\n",
              "      <th>505</th>\n",
              "      <td>45.00</td>\n",
              "      <td>0.161306</td>\n",
              "      <td>0</td>\n",
              "      <td>133.0</td>\n",
              "      <td>0.0</td>\n",
              "      <td>0.0</td>\n",
              "      <td>0.0</td>\n",
              "      <td>0.0</td>\n",
              "      <td>0.0</td>\n",
              "      <td>0.0</td>\n",
              "      <td>...</td>\n",
              "      <td>0.0</td>\n",
              "      <td>0.0</td>\n",
              "      <td>0.0</td>\n",
              "      <td>0.0</td>\n",
              "      <td>0.0</td>\n",
              "      <td>0.0</td>\n",
              "      <td>0.0</td>\n",
              "      <td>0.0</td>\n",
              "      <td>0.0</td>\n",
              "      <td>0.0</td>\n",
              "    </tr>\n",
              "  </tbody>\n",
              "</table>\n",
              "<p>506 rows × 380 columns</p>\n",
              "</div>"
            ],
            "text/plain": [
              "     Budget ($million)  Opening weekend ($million)  Oscar Winners  \\\n",
              "0                 0.00                    0.123360              0   \n",
              "1                 0.45                    8.111264              0   \n",
              "2                 1.50                   13.270000              0   \n",
              "3                 6.50                   37.134255              0   \n",
              "4                 9.00                   40.010975              0   \n",
              "..                 ...                         ...            ...   \n",
              "501              60.00                    3.704749              0   \n",
              "502              65.00                    0.033336              0   \n",
              "503              50.00                    0.130880              0   \n",
              "504               7.00                    0.111200              0   \n",
              "505              45.00                    0.161306              0   \n",
              "\n",
              "     Runtime (Minutes)  Action  Adventure  Animation  Biography  Comedy  \\\n",
              "0                118.0     0.0        0.0        0.0        1.0     0.0   \n",
              "1                103.0     1.0        0.0        0.0        0.0     0.0   \n",
              "2                103.0     0.0        0.0        0.0        0.0     0.0   \n",
              "3                 99.0     0.0        0.0        0.0        0.0     0.0   \n",
              "4                117.0     0.0        0.0        0.0        0.0     0.0   \n",
              "..                 ...     ...        ...        ...        ...     ...   \n",
              "501               90.0     0.0        1.0        1.0        0.0     1.0   \n",
              "502              129.0     0.0        0.0        0.0        0.0     0.0   \n",
              "503              161.0     0.0        1.0        0.0        0.0     0.0   \n",
              "504              119.0     0.0        0.0        0.0        0.0     1.0   \n",
              "505              133.0     0.0        0.0        0.0        0.0     0.0   \n",
              "\n",
              "     Crime  ...  Director_Wes Anderson  Director_Wes Ball  \\\n",
              "0      0.0  ...                    0.0                0.0   \n",
              "1      0.0  ...                    0.0                0.0   \n",
              "2      0.0  ...                    0.0                0.0   \n",
              "3      0.0  ...                    0.0                0.0   \n",
              "4      0.0  ...                    0.0                0.0   \n",
              "..     ...  ...                    ...                ...   \n",
              "501    0.0  ...                    0.0                0.0   \n",
              "502    1.0  ...                    0.0                0.0   \n",
              "503    0.0  ...                    0.0                0.0   \n",
              "504    0.0  ...                    0.0                0.0   \n",
              "505    0.0  ...                    0.0                0.0   \n",
              "\n",
              "     Director_Wes Craven  Director_Whit Stillman  Director_Will Gluck  \\\n",
              "0                    0.0                     0.0                  0.0   \n",
              "1                    0.0                     0.0                  0.0   \n",
              "2                    0.0                     0.0                  0.0   \n",
              "3                    0.0                     0.0                  0.0   \n",
              "4                    0.0                     0.0                  0.0   \n",
              "..                   ...                     ...                  ...   \n",
              "501                  0.0                     0.0                  0.0   \n",
              "502                  0.0                     0.0                  0.0   \n",
              "503                  0.0                     0.0                  0.0   \n",
              "504                  0.0                     0.0                  0.0   \n",
              "505                  0.0                     0.0                  0.0   \n",
              "\n",
              "     Director_William Brent Bell  Director_Woody Allen  Director_Yimou Zhang  \\\n",
              "0                            0.0                   0.0                   0.0   \n",
              "1                            0.0                   0.0                   0.0   \n",
              "2                            0.0                   0.0                   0.0   \n",
              "3                            0.0                   0.0                   0.0   \n",
              "4                            0.0                   0.0                   0.0   \n",
              "..                           ...                   ...                   ...   \n",
              "501                          0.0                   0.0                   0.0   \n",
              "502                          0.0                   0.0                   0.0   \n",
              "503                          0.0                   0.0                   0.0   \n",
              "504                          0.0                   0.0                   0.0   \n",
              "505                          0.0                   0.0                   0.0   \n",
              "\n",
              "     Director_Yorgos Lanthimos  Director_Zack Snyder  \n",
              "0                          0.0                   0.0  \n",
              "1                          0.0                   0.0  \n",
              "2                          0.0                   0.0  \n",
              "3                          0.0                   0.0  \n",
              "4                          0.0                   0.0  \n",
              "..                         ...                   ...  \n",
              "501                        0.0                   0.0  \n",
              "502                        0.0                   0.0  \n",
              "503                        0.0                   0.0  \n",
              "504                        0.0                   0.0  \n",
              "505                        0.0                   0.0  \n",
              "\n",
              "[506 rows x 380 columns]"
            ]
          },
          "execution_count": 7,
          "metadata": {},
          "output_type": "execute_result"
        }
      ],
      "source": [
        "df"
      ]
    },
    {
      "cell_type": "markdown",
      "metadata": {
        "id": "D95BJWtu7XsF"
      },
      "source": [
        "Load features and target data"
      ]
    },
    {
      "cell_type": "code",
      "execution_count": 9,
      "metadata": {
        "id": "vdNuNOiK7XsF"
      },
      "outputs": [],
      "source": [
        "y = df[\"Opening weekend ($million)\"]\n",
        "X = df.drop(\"Opening weekend ($million)\", axis=1)"
      ]
    },
    {
      "cell_type": "code",
      "execution_count": 10,
      "metadata": {},
      "outputs": [
        {
          "data": {
            "text/plain": [
              "0       0.123360\n",
              "1       8.111264\n",
              "2      13.270000\n",
              "3      37.134255\n",
              "4      40.010975\n",
              "         ...    \n",
              "501     3.704749\n",
              "502     0.033336\n",
              "503     0.130880\n",
              "504     0.111200\n",
              "505     0.161306\n",
              "Name: Opening weekend ($million), Length: 506, dtype: float64"
            ]
          },
          "execution_count": 10,
          "metadata": {},
          "output_type": "execute_result"
        }
      ],
      "source": [
        "y"
      ]
    },
    {
      "cell_type": "markdown",
      "metadata": {
        "id": "TElXN8l_7XsG"
      },
      "source": [
        "Separa os dados em treino e teste"
      ]
    },
    {
      "cell_type": "code",
      "execution_count": 11,
      "metadata": {
        "colab": {
          "base_uri": "https://localhost:8080/"
        },
        "id": "WABqUkfT7XsG",
        "outputId": "40cfc4ff-67a7-411b-9645-c4372413d229"
      },
      "outputs": [
        {
          "name": "stdout",
          "output_type": "stream",
          "text": [
            "(379, 379) (379,)\n",
            "(127, 379) (127,)\n"
          ]
        }
      ],
      "source": [
        "X_train, X_test, y_train, y_test = train_test_split(X, y, test_size = 0.25, random_state=20)\n",
        "print(X_train.shape, y_train.shape)\n",
        "print(X_test.shape, y_test.shape)"
      ]
    },
    {
      "cell_type": "code",
      "execution_count": 12,
      "metadata": {
        "id": "Sem3LHcqJ3jh"
      },
      "outputs": [],
      "source": [
        "columns_to_scale = [\"Budget ($million)\", \"Runtime (Minutes)\"]"
      ]
    },
    {
      "cell_type": "code",
      "execution_count": 13,
      "metadata": {
        "id": "YtudiB2EKC_A"
      },
      "outputs": [],
      "source": [
        "#Let's created an empty standard scalar object\n",
        "scaler = StandardScaler()\n"
      ]
    },
    {
      "cell_type": "code",
      "execution_count": 14,
      "metadata": {
        "id": "2fxC8OUAKLF1"
      },
      "outputs": [],
      "source": [
        "#fit our input data, this will calculate the mean and standard deviation of each feature from unskilled inputs\n",
        "X_train = scaler.fit_transform(X_train)\n",
        "\n",
        "X_test = scaler.transform(X_test)\n"
      ]
    },
    {
      "cell_type": "code",
      "execution_count": 15,
      "metadata": {},
      "outputs": [
        {
          "data": {
            "text/plain": [
              "['standard_scaler_com_diretor_revenue.pkl']"
            ]
          },
          "execution_count": 15,
          "metadata": {},
          "output_type": "execute_result"
        }
      ],
      "source": [
        "# Especifique o nome do arquivo onde você deseja salvar o scaler\n",
        "nome_arquivo = \"standard_scaler_com_diretor_revenue.pkl\"\n",
        "\n",
        "# Use a função joblib.dump para salvar o scaler\n",
        "joblib.dump(scaler, nome_arquivo)"
      ]
    },
    {
      "cell_type": "markdown",
      "metadata": {
        "id": "LFdnf8UI7XsH"
      },
      "source": [
        "Cria função pra avaliar os modelos"
      ]
    },
    {
      "cell_type": "code",
      "execution_count": 20,
      "metadata": {
        "id": "IGYx3STC7XsH"
      },
      "outputs": [],
      "source": [
        "def evaluate_regression(model, X_train, X_test, y_train, y_test):\n",
        "    '''\n",
        "    Avalia o desempenho de um modelo de regressão nos dados de treino e teste.\n",
        "\n",
        "    Parâmetros:\n",
        "    -----------\n",
        "    model : objeto de modelo de regressão\n",
        "        O modelo de regressão treinado a ser avaliado.\n",
        "\n",
        "    X_train : array-like de forma (n_amostras, n_características)\n",
        "        Os dados de entrada do treino.\n",
        "\n",
        "    X_test : array-like de forma (n_amostras, n_características)\n",
        "        Os dados de entrada do teste.\n",
        "\n",
        "    y_train : array-like de forma (n_amostras,)\n",
        "        Os dados de destino do treino.\n",
        "\n",
        "    y_test : array-like de forma (n_amostras,)\n",
        "        Os dados de destino do teste.\n",
        "\n",
        "    Retorna:\n",
        "    --------\n",
        "    None\n",
        "    '''\n",
        "    y_test_pred = model.predict(X_test)\n",
        "    y_train_pred = model.predict(X_train)\n",
        "\n",
        "    print(\"RESULTADOS DO TREINO: \\n===============================\")\n",
        "    mse_train = mean_squared_error(y_train, y_train_pred)\n",
        "    r2_train = r2_score(y_train, y_train_pred)\n",
        "    print(f\"ERRO QUADRÁTICO MÉDIO (MSE) NO TREINO: {mse_train:.4f}\")\n",
        "    print(f\"R² NO TREINO: {r2_train:.4f}\")\n",
        "\n",
        "    print(\"RESULTADOS DO TESTE: \\n===============================\")\n",
        "    mse_test = mean_squared_error(y_test, y_test_pred)\n",
        "    r2_test = r2_score(y_test, y_test_pred)\n",
        "    print(f\"ERRO QUADRÁTICO MÉDIO (MSE) NO TESTE: {mse_test:.4f}\")\n",
        "    print(f\"R² NO TESTE: {r2_test:.4f}\")\n"
      ]
    },
    {
      "cell_type": "markdown",
      "metadata": {
        "id": "A30eYX6m7XsH"
      },
      "source": [
        "Cria funções pra plotar gráficos de recall e precisão e ROC"
      ]
    },
    {
      "cell_type": "code",
      "execution_count": 21,
      "metadata": {
        "id": "fth1V3nn7XsI"
      },
      "outputs": [],
      "source": [
        "def plot_evaluate_regression(model, X, y):\n",
        "    '''\n",
        "    Avalia o desempenho de um modelo de regressão.\n",
        "\n",
        "    Parâmetros:\n",
        "    -----------\n",
        "    model : objeto de modelo de regressão\n",
        "        O modelo de regressão treinado a ser avaliado.\n",
        "\n",
        "    X : array-like de forma (n_amostras, n_características)\n",
        "        Os dados de entrada.\n",
        "\n",
        "    y : array-like de forma (n_amostras,)\n",
        "        Os dados de destino.\n",
        "\n",
        "    Retorna:\n",
        "    --------\n",
        "    None\n",
        "    '''\n",
        "    y_pred = model.predict(X)\n",
        "    \n",
        "    # Calcula o MSE e o R²\n",
        "    mse = mean_squared_error(y, y_pred)\n",
        "    r2 = r2_score(y, y_pred)\n",
        "    \n",
        "    # Plota um gráfico de dispersão\n",
        "    plt.figure(figsize=(8, 6))\n",
        "    plt.scatter(y, y_pred)\n",
        "    plt.xlabel(\"Valores Reais\")\n",
        "    plt.ylabel(\"Valores Previstos\")\n",
        "    plt.title(f\"Gráfico de Dispersão (MSE: {mse:.4f}, R²: {r2:.4f})\")\n",
        "    plt.show()\n",
        "    \n",
        "    print(f\"Erro Quadrático Médio (MSE): {mse:.4f}\")\n",
        "    print(f\"Coeficiente de Determinação (R²): {r2:.4f}\")"
      ]
    },
    {
      "cell_type": "markdown",
      "metadata": {
        "id": "TudWnx2f7XsI"
      },
      "source": [
        "###  1. Regressão logística"
      ]
    },
    {
      "cell_type": "code",
      "execution_count": 22,
      "metadata": {
        "colab": {
          "base_uri": "https://localhost:8080/"
        },
        "id": "GgTaSXQR7XsI",
        "outputId": "45077310-01cf-4177-bc1e-65ea425f0ab3"
      },
      "outputs": [
        {
          "name": "stdout",
          "output_type": "stream",
          "text": [
            "\n",
            "=========LOGISTIC REGRESSION============\n",
            "RESULTADOS DO TREINO: \n",
            "===============================\n",
            "ERRO QUADRÁTICO MÉDIO (MSE) NO TREINO: 54.6833\n",
            "R² NO TREINO: 0.9411\n",
            "RESULTADOS DO TESTE: \n",
            "===============================\n",
            "ERRO QUADRÁTICO MÉDIO (MSE) NO TESTE: 33413396287039572850795085824.0000\n",
            "R² NO TESTE: -24641151472827330681896960.0000\n"
          ]
        }
      ],
      "source": [
        "print(\"\\n=========LINEAR REGRESSION============\")\n",
        "\n",
        "from sklearn.linear_model import LinearRegression\n",
        "\n",
        "# Cria um objeto de regressão linear\n",
        "lr_reg = LinearRegression()\n",
        "\n",
        "# Treina o modelo de regressão linear\n",
        "lr_reg.fit(X_train, y_train)\n",
        "\n",
        "# Avalia o desempenho do modelo\n",
        "evaluate_regression(lr_reg, X_train, X_test, y_train, y_test)"
      ]
    },
    {
      "cell_type": "markdown",
      "metadata": {
        "id": "EFY2CICH7XsJ"
      },
      "source": [
        "Cria gráficos para avaliar precisão e recall"
      ]
    },
    {
      "cell_type": "code",
      "execution_count": 24,
      "metadata": {
        "colab": {
          "base_uri": "https://localhost:8080/",
          "height": 902
        },
        "id": "6zQNHiya7XsJ",
        "outputId": "465b3a46-5e56-43ad-f313-74e3fdc6d6b0"
      },
      "outputs": [
        {
          "data": {
            "image/png": "[encoded data removed]",
            "text/plain": [
              "<Figure size 800x600 with 1 Axes>"
            ]
          },
          "metadata": {},
          "output_type": "display_data"
        },
        {
          "name": "stdout",
          "output_type": "stream",
          "text": [
            "Erro Quadrático Médio (MSE): 33413396287039572850795085824.0000\n",
            "Coeficiente de Determinação (R²): -24641151472827330681896960.0000\n"
          ]
        }
      ],
      "source": [
        "plot_evaluate_regression(lr_reg, X_test, y_test)"
      ]
    },
    {
      "cell_type": "code",
      "execution_count": 26,
      "metadata": {
        "id": "MdcwLlbw7XsJ"
      },
      "outputs": [
        {
          "name": "stdout",
          "output_type": "stream",
          "text": [
            "{'Linear Regression': {'Train MSE': 54.68326710692029, 'Train R²': 0.9410903259834684, 'Test MSE': 3.3413396287039573e+28, 'Test R²': -2.464115147282733e+25}}\n"
          ]
        }
      ],
      "source": [
        "# Faça previsões nos dados de treinamento e teste\n",
        "y_train_pred = lr_reg.predict(X_train)\n",
        "y_test_pred = lr_reg.predict(X_test)\n",
        "\n",
        "# Calcule as métricas de regressão\n",
        "mse_train = mean_squared_error(y_train, y_train_pred)\n",
        "r2_train = r2_score(y_train, y_train_pred)\n",
        "mse_test = mean_squared_error(y_test, y_test_pred)\n",
        "r2_test = r2_score(y_test, y_test_pred)\n",
        "\n",
        "# Armazene as métricas em um dicionário\n",
        "scores_dict = {\n",
        "    'Linear Regression': {\n",
        "        'Train MSE': mse_train,\n",
        "        'Train R²': r2_train,\n",
        "        'Test MSE': mse_test,\n",
        "        'Test R²': r2_test,\n",
        "    }\n",
        "}\n",
        "\n",
        "# Exiba as métricas\n",
        "print(scores_dict)"
      ]
    },
    {
      "cell_type": "code",
      "execution_count": 27,
      "metadata": {
        "colab": {
          "base_uri": "https://localhost:8080/"
        },
        "id": "lksPZqvS7XsJ",
        "outputId": "c1e29ca4-29ea-4902-ff26-2e772211edd6"
      },
      "outputs": [
        {
          "name": "stdout",
          "output_type": "stream",
          "text": [
            "Scores de Validação Cruzada (MSE): [1.22437098e+31 8.18011819e+31 3.67088093e+30 9.27523780e+31\n",
            " 9.04564893e+31 2.34881137e+31 6.46083400e+30 6.39381600e+31\n",
            " 3.64485809e+31 6.18081756e+31]\n",
            "Cross-Validation MSE Médio: 4.730685042195609e+31\n",
            "Desvio Padrão: 3.3303285224110204e+31\n"
          ]
        }
      ],
      "source": [
        "# Calcule as pontuações de validação cruzada\n",
        "scores = cross_val_score(lr_reg, X_train, y_train, cv=10, scoring='neg_mean_squared_error')\n",
        "\n",
        "# Converta as pontuações para o MSE positivo (neg_mean_squared_error retorna valores negativos)\n",
        "mse_scores = -scores\n",
        "\n",
        "# Exiba as pontuações e a média com desvio padrão\n",
        "print(f\"Scores de Validação Cruzada (MSE): {mse_scores}\")\n",
        "print(f\"Cross-Validation MSE Médio: {mse_scores.mean()}\")\n",
        "print(f\"Desvio Padrão: {mse_scores.std()}\")"
      ]
    },
    {
      "cell_type": "markdown",
      "metadata": {
        "id": "PumTB3707XsJ"
      },
      "source": [
        "### Random Forest"
      ]
    },
    {
      "cell_type": "code",
      "execution_count": 28,
      "metadata": {
        "colab": {
          "base_uri": "https://localhost:8080/"
        },
        "id": "avsTSsZl7XsK",
        "outputId": "4fce5d52-82ac-4ff3-b9c5-ff796d00aa3e"
      },
      "outputs": [
        {
          "name": "stdout",
          "output_type": "stream",
          "text": [
            "Fitting 5 folds for each of 900 candidates, totalling 4500 fits\n"
          ]
        },
        {
          "name": "stderr",
          "output_type": "stream",
          "text": [
            "c:\\ProgramData\\anaconda3\\lib\\site-packages\\sklearn\\ensemble\\_forest.py:413: FutureWarning: `max_features='auto'` has been deprecated in 1.1 and will be removed in 1.3. To keep the past behaviour, explicitly set `max_features=1.0` or remove this parameter as it is also the default value for RandomForestRegressors and ExtraTreesRegressors.\n",
            "  warn(\n"
          ]
        },
        {
          "name": "stdout",
          "output_type": "stream",
          "text": [
            "Melhores parâmetros: {'bootstrap': True, 'max_depth': 5, 'max_features': 'auto', 'min_samples_leaf': 2, 'min_samples_split': 10, 'n_estimators': 100}\n",
            "RESULTADOS DO TREINO: \n",
            "===============================\n",
            "ERRO QUADRÁTICO MÉDIO (MSE) NO TREINO: 252.0938\n",
            "R² NO TREINO: 0.7284\n",
            "RESULTADOS DO TESTE: \n",
            "===============================\n",
            "ERRO QUADRÁTICO MÉDIO (MSE) NO TESTE: 836.0021\n",
            "R² NO TESTE: 0.3835\n"
          ]
        },
        {
          "name": "stderr",
          "output_type": "stream",
          "text": [
            "c:\\ProgramData\\anaconda3\\lib\\site-packages\\sklearn\\ensemble\\_forest.py:413: FutureWarning: `max_features='auto'` has been deprecated in 1.1 and will be removed in 1.3. To keep the past behaviour, explicitly set `max_features=1.0` or remove this parameter as it is also the default value for RandomForestRegressors and ExtraTreesRegressors.\n",
            "  warn(\n"
          ]
        }
      ],
      "source": [
        "from sklearn.ensemble import RandomForestRegressor\n",
        "from sklearn.model_selection import GridSearchCV\n",
        "\n",
        "# Defina os hiperparâmetros que você deseja otimizar\n",
        "n_estimators = [5, 10, 50, 100, 500]\n",
        "max_features = ['auto', 'sqrt']\n",
        "max_depth = [2, 5, 10, 15, None]\n",
        "min_samples_split = [2, 5, 10]\n",
        "min_samples_leaf = [1, 2, 4]\n",
        "bootstrap = [True, False]\n",
        "\n",
        "params_grid = {\n",
        "    'n_estimators': n_estimators,\n",
        "    'max_features': max_features,\n",
        "    'max_depth': max_depth,\n",
        "    'min_samples_split': min_samples_split,\n",
        "    'min_samples_leaf': min_samples_leaf,\n",
        "    'bootstrap': bootstrap\n",
        "}\n",
        "\n",
        "# Crie um objeto de regressão da Random Forest\n",
        "rf_reg = RandomForestRegressor(random_state=20)\n",
        "\n",
        "# Crie um objeto GridSearchCV para otimizar os hiperparâmetros\n",
        "rf_cv = GridSearchCV(rf_reg, params_grid, scoring=\"neg_mean_squared_error\", cv=5, verbose=1, n_jobs=-1)\n",
        "\n",
        "# Execute a pesquisa em grade\n",
        "rf_cv.fit(X_train, y_train)\n",
        "\n",
        "# Obtenha os melhores parâmetros encontrados\n",
        "best_params = rf_cv.best_params_\n",
        "print(f\"Melhores parâmetros: {best_params}\")\n",
        "\n",
        "# Crie um novo objeto de Random Forest com os melhores parâmetros encontrados\n",
        "rf_reg = RandomForestRegressor(**best_params)\n",
        "\n",
        "# Treine o modelo Random Forest\n",
        "rf_reg.fit(X_train, y_train)\n",
        "\n",
        "# Avalie o desempenho do modelo\n",
        "evaluate_regression(rf_reg, X_train, X_test, y_train, y_test)\n"
      ]
    },
    {
      "cell_type": "code",
      "execution_count": 29,
      "metadata": {
        "colab": {
          "base_uri": "https://localhost:8080/",
          "height": 902
        },
        "id": "uQBaFEjf7XsK",
        "outputId": "69e7a06f-071a-4893-c848-be0f269e6f4b"
      },
      "outputs": [
        {
          "data": {
            "image/png": "[encoded data removed]",
            "text/plain": [
              "<Figure size 800x600 with 1 Axes>"
            ]
          },
          "metadata": {},
          "output_type": "display_data"
        },
        {
          "name": "stdout",
          "output_type": "stream",
          "text": [
            "Erro Quadrático Médio (MSE): 836.0021\n",
            "Coeficiente de Determinação (R²): 0.3835\n"
          ]
        }
      ],
      "source": [
        "plot_evaluate_regression(rf_reg, X_test, y_test)"
      ]
    },
    {
      "cell_type": "code",
      "execution_count": 30,
      "metadata": {},
      "outputs": [
        {
          "name": "stdout",
          "output_type": "stream",
          "text": [
            "{'Linear Regression': {'Train MSE': 252.09384940497668, 'Train R²': 0.7284221065105236, 'Test MSE': 836.0021287644462, 'Test R²': 0.3834791617851434}}\n"
          ]
        }
      ],
      "source": [
        "# Faça previsões nos dados de treinamento e teste\n",
        "y_train_pred = rf_reg.predict(X_train)\n",
        "y_test_pred = rf_reg.predict(X_test)\n",
        "\n",
        "# Calcule as métricas de regressão\n",
        "mse_train = mean_squared_error(y_train, y_train_pred)\n",
        "r2_train = r2_score(y_train, y_train_pred)\n",
        "mse_test = mean_squared_error(y_test, y_test_pred)\n",
        "r2_test = r2_score(y_test, y_test_pred)\n",
        "\n",
        "# Armazene as métricas em um dicionário\n",
        "scores_dict = {\n",
        "    'Linear Regression': {\n",
        "        'Train MSE': mse_train,\n",
        "        'Train R²': r2_train,\n",
        "        'Test MSE': mse_test,\n",
        "        'Test R²': r2_test,\n",
        "    }\n",
        "}\n",
        "\n",
        "# Exiba as métricas\n",
        "print(scores_dict)"
      ]
    },
    {
      "cell_type": "code",
      "execution_count": 34,
      "metadata": {},
      "outputs": [
        {
          "name": "stderr",
          "output_type": "stream",
          "text": [
            "c:\\ProgramData\\anaconda3\\lib\\site-packages\\sklearn\\ensemble\\_forest.py:413: FutureWarning: `max_features='auto'` has been deprecated in 1.1 and will be removed in 1.3. To keep the past behaviour, explicitly set `max_features=1.0` or remove this parameter as it is also the default value for RandomForestRegressors and ExtraTreesRegressors.\n",
            "  warn(\n",
            "c:\\ProgramData\\anaconda3\\lib\\site-packages\\sklearn\\ensemble\\_forest.py:413: FutureWarning: `max_features='auto'` has been deprecated in 1.1 and will be removed in 1.3. To keep the past behaviour, explicitly set `max_features=1.0` or remove this parameter as it is also the default value for RandomForestRegressors and ExtraTreesRegressors.\n",
            "  warn(\n",
            "c:\\ProgramData\\anaconda3\\lib\\site-packages\\sklearn\\ensemble\\_forest.py:413: FutureWarning: `max_features='auto'` has been deprecated in 1.1 and will be removed in 1.3. To keep the past behaviour, explicitly set `max_features=1.0` or remove this parameter as it is also the default value for RandomForestRegressors and ExtraTreesRegressors.\n",
            "  warn(\n",
            "c:\\ProgramData\\anaconda3\\lib\\site-packages\\sklearn\\ensemble\\_forest.py:413: FutureWarning: `max_features='auto'` has been deprecated in 1.1 and will be removed in 1.3. To keep the past behaviour, explicitly set `max_features=1.0` or remove this parameter as it is also the default value for RandomForestRegressors and ExtraTreesRegressors.\n",
            "  warn(\n",
            "c:\\ProgramData\\anaconda3\\lib\\site-packages\\sklearn\\ensemble\\_forest.py:413: FutureWarning: `max_features='auto'` has been deprecated in 1.1 and will be removed in 1.3. To keep the past behaviour, explicitly set `max_features=1.0` or remove this parameter as it is also the default value for RandomForestRegressors and ExtraTreesRegressors.\n",
            "  warn(\n",
            "c:\\ProgramData\\anaconda3\\lib\\site-packages\\sklearn\\ensemble\\_forest.py:413: FutureWarning: `max_features='auto'` has been deprecated in 1.1 and will be removed in 1.3. To keep the past behaviour, explicitly set `max_features=1.0` or remove this parameter as it is also the default value for RandomForestRegressors and ExtraTreesRegressors.\n",
            "  warn(\n",
            "c:\\ProgramData\\anaconda3\\lib\\site-packages\\sklearn\\ensemble\\_forest.py:413: FutureWarning: `max_features='auto'` has been deprecated in 1.1 and will be removed in 1.3. To keep the past behaviour, explicitly set `max_features=1.0` or remove this parameter as it is also the default value for RandomForestRegressors and ExtraTreesRegressors.\n",
            "  warn(\n",
            "c:\\ProgramData\\anaconda3\\lib\\site-packages\\sklearn\\ensemble\\_forest.py:413: FutureWarning: `max_features='auto'` has been deprecated in 1.1 and will be removed in 1.3. To keep the past behaviour, explicitly set `max_features=1.0` or remove this parameter as it is also the default value for RandomForestRegressors and ExtraTreesRegressors.\n",
            "  warn(\n",
            "c:\\ProgramData\\anaconda3\\lib\\site-packages\\sklearn\\ensemble\\_forest.py:413: FutureWarning: `max_features='auto'` has been deprecated in 1.1 and will be removed in 1.3. To keep the past behaviour, explicitly set `max_features=1.0` or remove this parameter as it is also the default value for RandomForestRegressors and ExtraTreesRegressors.\n",
            "  warn(\n",
            "c:\\ProgramData\\anaconda3\\lib\\site-packages\\sklearn\\ensemble\\_forest.py:413: FutureWarning: `max_features='auto'` has been deprecated in 1.1 and will be removed in 1.3. To keep the past behaviour, explicitly set `max_features=1.0` or remove this parameter as it is also the default value for RandomForestRegressors and ExtraTreesRegressors.\n",
            "  warn(\n"
          ]
        },
        {
          "name": "stdout",
          "output_type": "stream",
          "text": [
            "Scores de Validação Cruzada (MSE): [ 981.51391534 1023.4189301   302.33349191  272.21365565  515.66870889\n",
            "  310.21513977  424.92952119  282.85328378  177.14133159  261.9848608 ]\n",
            "Cross-Validation MSE Médio: 455.2272839010786\n",
            "Desvio Padrão: 287.5198661123276\n"
          ]
        }
      ],
      "source": [
        "# Calcule as pontuações de validação cruzada\n",
        "scores = cross_val_score(rf_reg, X_train, y_train, cv=10, scoring='neg_mean_squared_error')\n",
        "\n",
        "# Converta as pontuações para o MSE positivo (neg_mean_squared_error retorna valores negativos)\n",
        "mse_scores = -scores\n",
        "\n",
        "# Exiba as pontuações e a média com desvio padrão\n",
        "print(f\"Scores de Validação Cruzada (MSE): {mse_scores}\")\n",
        "print(f\"Cross-Validation MSE Médio: {mse_scores.mean()}\")\n",
        "print(f\"Desvio Padrão: {mse_scores.std()}\")"
      ]
    },
    {
      "cell_type": "markdown",
      "metadata": {
        "id": "7YpvNk4m7XsK"
      },
      "source": [
        "### XGBoost"
      ]
    },
    {
      "cell_type": "code",
      "execution_count": 39,
      "metadata": {
        "colab": {
          "base_uri": "https://localhost:8080/"
        },
        "id": "c5PIcSgX7XsK",
        "outputId": "9196493f-ddfe-465e-d481-8ad927a83bc4"
      },
      "outputs": [
        {
          "name": "stdout",
          "output_type": "stream",
          "text": [
            "Fitting 5 folds for each of 300 candidates, totalling 1500 fits\n",
            "Melhores parâmetros: {'learning_rate': 0.1, 'max_depth': 2, 'min_child_weight': 3, 'n_estimators': 50}\n",
            "Erro Quadrático Médio (MSE): 819.1144277077349\n",
            "Coeficiente de Determinação (R²): 0.3959332205163014\n",
            "RESULTADOS DO TREINO: \n",
            "===============================\n",
            "ERRO QUADRÁTICO MÉDIO (MSE) NO TREINO: 308.3879\n",
            "R² NO TREINO: 0.6678\n",
            "RESULTADOS DO TESTE: \n",
            "===============================\n",
            "ERRO QUADRÁTICO MÉDIO (MSE) NO TESTE: 819.1144\n",
            "R² NO TESTE: 0.3959\n"
          ]
        }
      ],
      "source": [
        "import xgboost as xgb\n",
        "from sklearn.model_selection import GridSearchCV\n",
        "from sklearn.metrics import mean_squared_error, r2_score\n",
        "\n",
        "# Defina os hiperparâmetros que você deseja otimizar\n",
        "n_estimators = [50, 100, 250]\n",
        "max_depth = [2, 3, 5, 10, 15]\n",
        "learning_rate = [0.05, 0.1, 0.5, 0.9, 1]\n",
        "min_child_weight = [1, 2, 3, 4]\n",
        "\n",
        "params_grid = {\n",
        "    'n_estimators': n_estimators,\n",
        "    'max_depth': max_depth,\n",
        "    'learning_rate': learning_rate,\n",
        "    'min_child_weight': min_child_weight,\n",
        "}\n",
        "\n",
        "# Crie um objeto XGBoost para regressão\n",
        "xgb_reg = xgb.XGBRegressor(random_state=20)\n",
        "\n",
        "# Crie um objeto GridSearchCV para otimizar os hiperparâmetros\n",
        "xgb_cv = GridSearchCV(xgb_reg, params_grid, cv=5, scoring='neg_mean_squared_error', n_jobs=-1, verbose=1)\n",
        "\n",
        "# Execute a pesquisa em grade\n",
        "xgb_cv.fit(X_train, y_train)\n",
        "\n",
        "# Obtenha os melhores parâmetros encontrados\n",
        "best_params = xgb_cv.best_params_\n",
        "print(f\"Melhores parâmetros: {best_params}\")\n",
        "\n",
        "# Crie um novo objeto XGBoost com os melhores parâmetros encontrados\n",
        "xgb_reg = xgb.XGBRegressor(**best_params)\n",
        "\n",
        "# Treine o modelo XGBoost para regressão\n",
        "xgb_reg.fit(X_train, y_train)\n",
        "\n",
        "# Faça previsões no conjunto de teste\n",
        "y_pred = xgb_reg.predict(X_test)\n",
        "\n",
        "# Avalie o desempenho do modelo para regressão\n",
        "mse = mean_squared_error(y_test, y_pred)\n",
        "r2 = r2_score(y_test, y_pred)\n",
        "\n",
        "print(f\"Erro Quadrático Médio (MSE): {mse}\")\n",
        "print(f\"Coeficiente de Determinação (R²): {r2}\")\n",
        "\n",
        "\n",
        "# Avalie o desempenho do modelo\n",
        "evaluate_regression(xgb_cv, X_train, X_test, y_train, y_test)\n"
      ]
    },
    {
      "cell_type": "code",
      "execution_count": 40,
      "metadata": {
        "colab": {
          "base_uri": "https://localhost:8080/",
          "height": 902
        },
        "id": "6zsqI8JU7XsL",
        "outputId": "1a5a04e3-e8a2-44e7-edac-57516a8a4fe8"
      },
      "outputs": [
        {
          "data": {
            "image/png": "[encoded data removed]",
            "text/plain": [
              "<Figure size 800x600 with 1 Axes>"
            ]
          },
          "metadata": {},
          "output_type": "display_data"
        },
        {
          "name": "stdout",
          "output_type": "stream",
          "text": [
            "Erro Quadrático Médio (MSE): 819.1144\n",
            "Coeficiente de Determinação (R²): 0.3959\n"
          ]
        }
      ],
      "source": [
        "plot_evaluate_regression(xgb_reg, X_test, y_test)"
      ]
    },
    {
      "cell_type": "code",
      "execution_count": 41,
      "metadata": {},
      "outputs": [
        {
          "name": "stdout",
          "output_type": "stream",
          "text": [
            "{'Linear Regression': {'Train MSE': 308.38792562309743, 'Train R²': 0.667777125796641, 'Test MSE': 819.1144277077349, 'Test R²': 0.3959332205163014}}\n"
          ]
        }
      ],
      "source": [
        "# Faça previsões nos dados de treinamento e teste\n",
        "y_train_pred = xgb_reg.predict(X_train)\n",
        "y_test_pred = xgb_reg.predict(X_test)\n",
        "\n",
        "# Calcule as métricas de regressão\n",
        "mse_train = mean_squared_error(y_train, y_train_pred)\n",
        "r2_train = r2_score(y_train, y_train_pred)\n",
        "mse_test = mean_squared_error(y_test, y_test_pred)\n",
        "r2_test = r2_score(y_test, y_test_pred)\n",
        "\n",
        "# Armazene as métricas em um dicionário\n",
        "scores_dict = {\n",
        "    'Linear Regression': {\n",
        "        'Train MSE': mse_train,\n",
        "        'Train R²': r2_train,\n",
        "        'Test MSE': mse_test,\n",
        "        'Test R²': r2_test,\n",
        "    }\n",
        "}\n",
        "\n",
        "# Exiba as métricas\n",
        "print(scores_dict)"
      ]
    },
    {
      "cell_type": "code",
      "execution_count": 42,
      "metadata": {},
      "outputs": [
        {
          "name": "stdout",
          "output_type": "stream",
          "text": [
            "Scores de Validação Cruzada (MSE): [1005.5204353  1055.63306065  281.58386316  229.66033392  543.61728484\n",
            "  302.88760931  435.50329439  237.02688178  184.45896821  314.33516129]\n",
            "Cross-Validation MSE Médio: 459.02268928488974\n",
            "Desvio Padrão: 302.7184790635784\n"
          ]
        }
      ],
      "source": [
        "# Calcule as pontuações de validação cruzada\n",
        "scores = cross_val_score(xgb_reg, X_train, y_train, cv=10, scoring='neg_mean_squared_error')\n",
        "\n",
        "# Converta as pontuações para o MSE positivo (neg_mean_squared_error retorna valores negativos)\n",
        "mse_scores = -scores\n",
        "\n",
        "# Exiba as pontuações e a média com desvio padrão\n",
        "print(f\"Scores de Validação Cruzada (MSE): {mse_scores}\")\n",
        "print(f\"Cross-Validation MSE Médio: {mse_scores.mean()}\")\n",
        "print(f\"Desvio Padrão: {mse_scores.std()}\")"
      ]
    },
    {
      "cell_type": "markdown",
      "metadata": {
        "id": "0Phzy3kH7XsL"
      },
      "source": [
        "### Support Vector Machine"
      ]
    },
    {
      "cell_type": "code",
      "execution_count": 43,
      "metadata": {
        "colab": {
          "base_uri": "https://localhost:8080/"
        },
        "id": "oQBQ-8mo7XsM",
        "outputId": "3eae893e-7647-481f-b5ac-2d816f6330d5"
      },
      "outputs": [
        {
          "name": "stdout",
          "output_type": "stream",
          "text": [
            "Fitting 5 folds for each of 60 candidates, totalling 300 fits\n",
            "Melhores parâmetros: {'C': 75, 'gamma': 0.0009, 'kernel': 'rbf'}\n",
            "Erro Quadrático Médio (MSE): 894.9530466634226\n",
            "Coeficiente de Determinação (R²): 0.34000502689229706\n",
            "RESULTADOS DO TREINO: \n",
            "===============================\n",
            "ERRO QUADRÁTICO MÉDIO (MSE) NO TREINO: 220.5833\n",
            "R² NO TREINO: 0.7624\n",
            "RESULTADOS DO TESTE: \n",
            "===============================\n",
            "ERRO QUADRÁTICO MÉDIO (MSE) NO TESTE: 894.9530\n",
            "R² NO TESTE: 0.3400\n"
          ]
        }
      ],
      "source": [
        "from sklearn.svm import SVR\n",
        "from sklearn.model_selection import GridSearchCV\n",
        "from sklearn.metrics import mean_squared_error, r2_score\n",
        "\n",
        "# Defina os hiperparâmetros que você deseja otimizar\n",
        "param_grid = {\n",
        "    'C': [60, 70, 75, 65],\n",
        "    'gamma': [0.002, 0.001, 0.0009, 0.0008, 0.0007],\n",
        "    'kernel': ['rbf', 'poly', 'linear'],\n",
        "}\n",
        "\n",
        "# Crie um objeto SVR (Support Vector Regressor)\n",
        "svm_reg = SVR()\n",
        "\n",
        "# Crie um objeto GridSearchCV para otimizar os hiperparâmetros\n",
        "svm_cv = GridSearchCV(svm_reg, param_grid, scoring='neg_mean_squared_error', verbose=1, cv=5)\n",
        "\n",
        "# Execute a pesquisa em grade\n",
        "svm_cv.fit(X_train, y_train)\n",
        "\n",
        "# Obtenha os melhores parâmetros encontrados\n",
        "best_params = svm_cv.best_params_\n",
        "print(f\"Melhores parâmetros: {best_params}\")\n",
        "\n",
        "# Crie um novo objeto SVR com os melhores parâmetros encontrados\n",
        "svm_reg = SVR(**best_params)\n",
        "\n",
        "# Treine o modelo SVR para regressão\n",
        "svm_reg.fit(X_train, y_train)\n",
        "\n",
        "# Faça previsões no conjunto de teste\n",
        "y_pred = svm_reg.predict(X_test)\n",
        "\n",
        "# Avalie o desempenho do modelo para regressão\n",
        "mse = mean_squared_error(y_test, y_pred)\n",
        "r2 = r2_score(y_test, y_pred)\n",
        "\n",
        "print(f\"Erro Quadrático Médio (MSE): {mse}\")\n",
        "print(f\"Coeficiente de Determinação (R²): {r2}\")\n",
        "\n",
        "evaluate_regression(svm_reg, X_train, X_test, y_train, y_test)"
      ]
    },
    {
      "cell_type": "code",
      "execution_count": 44,
      "metadata": {
        "colab": {
          "base_uri": "https://localhost:8080/",
          "height": 902
        },
        "id": "nYTjUOyc7XsM",
        "outputId": "e21eebcb-c591-45e8-8dee-48ccdbc6ffb3"
      },
      "outputs": [
        {
          "data": {
            "image/png": "[encoded data removed]",
            "text/plain": [
              "<Figure size 800x600 with 1 Axes>"
            ]
          },
          "metadata": {},
          "output_type": "display_data"
        },
        {
          "name": "stdout",
          "output_type": "stream",
          "text": [
            "Erro Quadrático Médio (MSE): 894.9530\n",
            "Coeficiente de Determinação (R²): 0.3400\n"
          ]
        }
      ],
      "source": [
        "plot_evaluate_regression(svm_reg, X_test, y_test)"
      ]
    },
    {
      "cell_type": "code",
      "execution_count": 45,
      "metadata": {
        "id": "S5Rmn1k77XsM"
      },
      "outputs": [
        {
          "name": "stdout",
          "output_type": "stream",
          "text": [
            "{'Linear Regression': {'Train MSE': 220.5833448189746, 'Train R²': 0.7623680218053852, 'Test MSE': 894.9530466634226, 'Test R²': 0.34000502689229706}}\n"
          ]
        }
      ],
      "source": [
        "# Faça previsões nos dados de treinamento e teste\n",
        "y_train_pred = svm_reg.predict(X_train)\n",
        "y_test_pred = svm_reg.predict(X_test)\n",
        "\n",
        "# Calcule as métricas de regressão\n",
        "mse_train = mean_squared_error(y_train, y_train_pred)\n",
        "r2_train = r2_score(y_train, y_train_pred)\n",
        "mse_test = mean_squared_error(y_test, y_test_pred)\n",
        "r2_test = r2_score(y_test, y_test_pred)\n",
        "\n",
        "# Armazene as métricas em um dicionário\n",
        "scores_dict = {\n",
        "    'Linear Regression': {\n",
        "        'Train MSE': mse_train,\n",
        "        'Train R²': r2_train,\n",
        "        'Test MSE': mse_test,\n",
        "        'Test R²': r2_test,\n",
        "    }\n",
        "}\n",
        "\n",
        "# Exiba as métricas\n",
        "print(scores_dict)"
      ]
    },
    {
      "cell_type": "code",
      "execution_count": 46,
      "metadata": {},
      "outputs": [
        {
          "name": "stdout",
          "output_type": "stream",
          "text": [
            "Scores de Validação Cruzada (MSE): [1181.36137005 1138.23398104  267.7296492   440.54210973  807.7826657\n",
            "  348.90488216  474.47877354  305.41914791  236.34874173  495.51687645]\n",
            "Cross-Validation MSE Médio: 569.6318197511929\n",
            "Desvio Padrão: 332.5958228592512\n"
          ]
        }
      ],
      "source": [
        "# Calcule as pontuações de validação cruzada\n",
        "scores = cross_val_score(svm_reg, X_train, y_train, cv=10, scoring='neg_mean_squared_error')\n",
        "\n",
        "# Converta as pontuações para o MSE positivo (neg_mean_squared_error retorna valores negativos)\n",
        "mse_scores = -scores\n",
        "\n",
        "# Exiba as pontuações e a média com desvio padrão\n",
        "print(f\"Scores de Validação Cruzada (MSE): {mse_scores}\")\n",
        "print(f\"Cross-Validation MSE Médio: {mse_scores.mean()}\")\n",
        "print(f\"Desvio Padrão: {mse_scores.std()}\")"
      ]
    },
    {
      "cell_type": "markdown",
      "metadata": {
        "id": "KxwEPauu7XsM"
      },
      "source": [
        "## Comparação entre os modelos"
      ]
    },
    {
      "cell_type": "markdown",
      "metadata": {
        "id": "mBlMS4LU7XsM"
      },
      "source": [
        "Load models"
      ]
    },
    {
      "cell_type": "code",
      "execution_count": 48,
      "metadata": {
        "colab": {
          "base_uri": "https://localhost:8080/",
          "height": 245
        },
        "id": "AWwq4Hj67XsN",
        "outputId": "402ab2a9-759e-4c96-93c5-82ec665f4149"
      },
      "outputs": [],
      "source": [
        "#import pickle\n",
        "\n",
        "#with open('models/lr_clf', 'rb') as file:\n",
        "#    lr_clf = pickle.load(file)\n",
        "\n",
        "#with open('models/Rf_clf', 'rb') as file:\n",
        "#    rf_clf = pickle.load(file)\n",
        "\n",
        "#with open('models/Xgb_clf', 'rb') as file:\n",
        "#    xgb_clf = pickle.load(file)\n",
        "\n",
        "#with open('models/svm_clf', 'rb') as file:\n",
        "#    svm_clf = pickle.load(file)"
      ]
    },
    {
      "cell_type": "code",
      "execution_count": 47,
      "metadata": {
        "colab": {
          "base_uri": "https://localhost:8080/"
        },
        "id": "8cesx3A87XsN",
        "outputId": "2cf3a76f-f749-4697-dc94-07f6bfeec68d"
      },
      "outputs": [
        {
          "name": "stdout",
          "output_type": "stream",
          "text": [
            "Linear Regression: R² = -24641151472827330681896960.000\n",
            "Random Forest Regressor: R² = 0.383\n",
            "XGBoost Regressor: R² = 0.396\n",
            "Support Vector Regressor: R² = 0.340\n"
          ]
        }
      ],
      "source": [
        "from sklearn.metrics import r2_score\n",
        "\n",
        "# Dicionário de modelos de regressão\n",
        "regression_models = {\n",
        "    'Linear Regression': lr_reg,\n",
        "    'Random Forest Regressor': rf_reg,\n",
        "    'XGBoost Regressor': xgb_reg,\n",
        "    'Support Vector Regressor': svm_reg\n",
        "}\n",
        "\n",
        "for model_name, model in regression_models.items():\n",
        "    y_pred = model.predict(X_test)\n",
        "    r2 = r2_score(y_test, y_pred)\n",
        "    print(f\"{model_name}: R² = {r2:.3f}\")"
      ]
    },
    {
      "cell_type": "markdown",
      "metadata": {
        "id": "gA-53rkB7XsN"
      },
      "source": [
        "## Salvar modelos"
      ]
    },
    {
      "cell_type": "code",
      "execution_count": 49,
      "metadata": {
        "id": "cKV3_b9A7XsN"
      },
      "outputs": [],
      "source": [
        "with open('lr_reg.pkl', 'wb') as file:\n",
        "    pickle.dump(lr_reg, file)\n",
        "\n",
        "with open('Rf_reg.pkl', 'wb') as file:\n",
        "    pickle.dump(rf_reg, file)\n",
        "\n",
        "with open('Xgb_reg.pkl', 'wb') as file:\n",
        "    pickle.dump(xgb_reg, file)\n",
        "\n",
        "with open('svm_reg.pkl', 'wb') as file:\n",
        "    pickle.dump(svm_reg, file)\n"
      ]
    },
    {
      "cell_type": "markdown",
      "metadata": {
        "id": "eCyblLgY7XsZ"
      },
      "source": [
        "## SHAP"
      ]
    },
    {
      "cell_type": "markdown",
      "metadata": {
        "id": "FjdGKNkn7XsZ"
      },
      "source": [
        "Load models"
      ]
    },
    {
      "cell_type": "code",
      "execution_count": 50,
      "metadata": {
        "colab": {
          "base_uri": "https://localhost:8080/"
        },
        "id": "1FK76wCR7XsZ",
        "outputId": "876e3119-5e6b-4fd8-c241-722b03ffdf4c"
      },
      "outputs": [
        {
          "name": "stdout",
          "output_type": "stream",
          "text": [
            "O melhor modelo de regressão é: XGBoost Regressor\n"
          ]
        }
      ],
      "source": [
        "from sklearn.metrics import r2_score\n",
        "\n",
        "def get_best_regression_model(regression_models, X_test, y_test):\n",
        "    \"\"\"\n",
        "    Retorna o nome do modelo de regressão com o maior R² a partir de um dicionário de modelos de regressão previamente treinados.\n",
        "\n",
        "    Parâmetros:\n",
        "    regression_models (dict): Um dicionário de modelos de regressão previamente treinados, onde as chaves são os nomes dos modelos e os valores são os modelos treinados.\n",
        "    X_test (array): Um array NumPy de tamanho (n_samples, n_features) contendo os dados de teste.\n",
        "    y_test (array): Um array NumPy de tamanho (n_samples,) contendo os rótulos correspondentes aos dados de teste.\n",
        "\n",
        "    Retorna:\n",
        "    O nome do modelo de regressão com o maior R².\n",
        "\n",
        "    \"\"\"\n",
        "    best_r2 = -float('inf')  # valor inicial para comparar os R²\n",
        "    best_model_name = None  # valor inicial para guardar o nome do melhor modelo\n",
        "    for model_name, model in regression_models.items():\n",
        "        y_pred = model.predict(X_test)\n",
        "        r2 = r2_score(y_test, y_pred)\n",
        "        if r2 > best_r2:\n",
        "            best_r2 = r2\n",
        "            best_model_name = model_name\n",
        "    return best_model_name\n",
        "\n",
        "best_regression_model = get_best_regression_model(regression_models, X_test, y_test)\n",
        "print(\"O melhor modelo de regressão é:\", best_regression_model)\n"
      ]
    }
  ],
  "metadata": {
    "colab": {
      "provenance": []
    },
    "kernelspec": {
      "display_name": "Python 3",
      "language": "python",
      "name": "python3"
    },
    "language_info": {
      "codemirror_mode": {
        "name": "ipython",
        "version": 3
      },
      "file_extension": ".py",
      "mimetype": "text/x-python",
      "name": "python",
      "nbconvert_exporter": "python",
      "pygments_lexer": "ipython3",
      "version": "3.10.9"
    },
    "orig_nbformat": 4,
    "widgets": {
      "application/vnd.jupyter.widget-state+json": {
        "14923f86cce9434ebf6cf963f09675ce": {
          "model_module": "@jupyter-widgets/controls",
          "model_module_version": "1.5.0",
          "model_name": "HTMLModel",
          "state": {
            "_dom_classes": [],
            "_model_module": "@jupyter-widgets/controls",
            "_model_module_version": "1.5.0",
            "_model_name": "HTMLModel",
            "_view_count": null,
            "_view_module": "@jupyter-widgets/controls",
            "_view_module_version": "1.5.0",
            "_view_name": "HTMLView",
            "description": "",
            "description_tooltip": null,
            "layout": "IPY_MODEL_76ee8bb9d1614ccf82fa0256605ddbda",
            "placeholder": "​",
            "style": "IPY_MODEL_9b61c4ed0baa4fa4aadc40c335b70dab",
            "value": "100%"
          }
        },
        "1f6ec95c59224686ac5b5551877ae860": {
          "model_module": "@jupyter-widgets/base",
          "model_module_version": "1.2.0",
          "model_name": "LayoutModel",
          "state": {
            "_model_module": "@jupyter-widgets/base",
            "_model_module_version": "1.2.0",
            "_model_name": "LayoutModel",
            "_view_count": null,
            "_view_module": "@jupyter-widgets/base",
            "_view_module_version": "1.2.0",
            "_view_name": "LayoutView",
            "align_content": null,
            "align_items": null,
            "align_self": null,
            "border": null,
            "bottom": null,
            "display": null,
            "flex": null,
            "flex_flow": null,
            "grid_area": null,
            "grid_auto_columns": null,
            "grid_auto_flow": null,
            "grid_auto_rows": null,
            "grid_column": null,
            "grid_gap": null,
            "grid_row": null,
            "grid_template_areas": null,
            "grid_template_columns": null,
            "grid_template_rows": null,
            "height": null,
            "justify_content": null,
            "justify_items": null,
            "left": null,
            "margin": null,
            "max_height": null,
            "max_width": null,
            "min_height": null,
            "min_width": null,
            "object_fit": null,
            "object_position": null,
            "order": null,
            "overflow": null,
            "overflow_x": null,
            "overflow_y": null,
            "padding": null,
            "right": null,
            "top": null,
            "visibility": null,
            "width": null
          }
        },
        "2deae3df9162495f91e12cd7cfaae836": {
          "model_module": "@jupyter-widgets/controls",
          "model_module_version": "1.5.0",
          "model_name": "HTMLModel",
          "state": {
            "_dom_classes": [],
            "_model_module": "@jupyter-widgets/controls",
            "_model_module_version": "1.5.0",
            "_model_name": "HTMLModel",
            "_view_count": null,
            "_view_module": "@jupyter-widgets/controls",
            "_view_module_version": "1.5.0",
            "_view_name": "HTMLView",
            "description": "",
            "description_tooltip": null,
            "layout": "IPY_MODEL_fdc1323015b141f68a87f51a8b64f24a",
            "placeholder": "​",
            "style": "IPY_MODEL_e7fec9b3d332410388b4e30ea72ed8a6",
            "value": " 127/127 [08:33&lt;00:00,  3.95s/it]"
          }
        },
        "5884b3bf89e946c08c4da165a1fd473d": {
          "model_module": "@jupyter-widgets/controls",
          "model_module_version": "1.5.0",
          "model_name": "ProgressStyleModel",
          "state": {
            "_model_module": "@jupyter-widgets/controls",
            "_model_module_version": "1.5.0",
            "_model_name": "ProgressStyleModel",
            "_view_count": null,
            "_view_module": "@jupyter-widgets/base",
            "_view_module_version": "1.2.0",
            "_view_name": "StyleView",
            "bar_color": null,
            "description_width": ""
          }
        },
        "622e26902d6d47fa9fbd86a2d8f90bf6": {
          "model_module": "@jupyter-widgets/controls",
          "model_module_version": "1.5.0",
          "model_name": "FloatProgressModel",
          "state": {
            "_dom_classes": [],
            "_model_module": "@jupyter-widgets/controls",
            "_model_module_version": "1.5.0",
            "_model_name": "FloatProgressModel",
            "_view_count": null,
            "_view_module": "@jupyter-widgets/controls",
            "_view_module_version": "1.5.0",
            "_view_name": "ProgressView",
            "bar_style": "success",
            "description": "",
            "description_tooltip": null,
            "layout": "IPY_MODEL_64fd11f4b4fb49ecae0affaf493f6f8c",
            "max": 127,
            "min": 0,
            "orientation": "horizontal",
            "style": "IPY_MODEL_5884b3bf89e946c08c4da165a1fd473d",
            "value": 127
          }
        },
        "64fd11f4b4fb49ecae0affaf493f6f8c": {
          "model_module": "@jupyter-widgets/base",
          "model_module_version": "1.2.0",
          "model_name": "LayoutModel",
          "state": {
            "_model_module": "@jupyter-widgets/base",
            "_model_module_version": "1.2.0",
            "_model_name": "LayoutModel",
            "_view_count": null,
            "_view_module": "@jupyter-widgets/base",
            "_view_module_version": "1.2.0",
            "_view_name": "LayoutView",
            "align_content": null,
            "align_items": null,
            "align_self": null,
            "border": null,
            "bottom": null,
            "display": null,
            "flex": null,
            "flex_flow": null,
            "grid_area": null,
            "grid_auto_columns": null,
            "grid_auto_flow": null,
            "grid_auto_rows": null,
            "grid_column": null,
            "grid_gap": null,
            "grid_row": null,
            "grid_template_areas": null,
            "grid_template_columns": null,
            "grid_template_rows": null,
            "height": null,
            "justify_content": null,
            "justify_items": null,
            "left": null,
            "margin": null,
            "max_height": null,
            "max_width": null,
            "min_height": null,
            "min_width": null,
            "object_fit": null,
            "object_position": null,
            "order": null,
            "overflow": null,
            "overflow_x": null,
            "overflow_y": null,
            "padding": null,
            "right": null,
            "top": null,
            "visibility": null,
            "width": null
          }
        },
        "76ee8bb9d1614ccf82fa0256605ddbda": {
          "model_module": "@jupyter-widgets/base",
          "model_module_version": "1.2.0",
          "model_name": "LayoutModel",
          "state": {
            "_model_module": "@jupyter-widgets/base",
            "_model_module_version": "1.2.0",
            "_model_name": "LayoutModel",
            "_view_count": null,
            "_view_module": "@jupyter-widgets/base",
            "_view_module_version": "1.2.0",
            "_view_name": "LayoutView",
            "align_content": null,
            "align_items": null,
            "align_self": null,
            "border": null,
            "bottom": null,
            "display": null,
            "flex": null,
            "flex_flow": null,
            "grid_area": null,
            "grid_auto_columns": null,
            "grid_auto_flow": null,
            "grid_auto_rows": null,
            "grid_column": null,
            "grid_gap": null,
            "grid_row": null,
            "grid_template_areas": null,
            "grid_template_columns": null,
            "grid_template_rows": null,
            "height": null,
            "justify_content": null,
            "justify_items": null,
            "left": null,
            "margin": null,
            "max_height": null,
            "max_width": null,
            "min_height": null,
            "min_width": null,
            "object_fit": null,
            "object_position": null,
            "order": null,
            "overflow": null,
            "overflow_x": null,
            "overflow_y": null,
            "padding": null,
            "right": null,
            "top": null,
            "visibility": null,
            "width": null
          }
        },
        "7ff941b7169f4e55aa8381da4d3b232e": {
          "model_module": "@jupyter-widgets/controls",
          "model_module_version": "1.5.0",
          "model_name": "HBoxModel",
          "state": {
            "_dom_classes": [],
            "_model_module": "@jupyter-widgets/controls",
            "_model_module_version": "1.5.0",
            "_model_name": "HBoxModel",
            "_view_count": null,
            "_view_module": "@jupyter-widgets/controls",
            "_view_module_version": "1.5.0",
            "_view_name": "HBoxView",
            "box_style": "",
            "children": [
              "IPY_MODEL_14923f86cce9434ebf6cf963f09675ce",
              "IPY_MODEL_622e26902d6d47fa9fbd86a2d8f90bf6",
              "IPY_MODEL_2deae3df9162495f91e12cd7cfaae836"
            ],
            "layout": "IPY_MODEL_1f6ec95c59224686ac5b5551877ae860"
          }
        },
        "9b61c4ed0baa4fa4aadc40c335b70dab": {
          "model_module": "@jupyter-widgets/controls",
          "model_module_version": "1.5.0",
          "model_name": "DescriptionStyleModel",
          "state": {
            "_model_module": "@jupyter-widgets/controls",
            "_model_module_version": "1.5.0",
            "_model_name": "DescriptionStyleModel",
            "_view_count": null,
            "_view_module": "@jupyter-widgets/base",
            "_view_module_version": "1.2.0",
            "_view_name": "StyleView",
            "description_width": ""
          }
        },
        "e7fec9b3d332410388b4e30ea72ed8a6": {
          "model_module": "@jupyter-widgets/controls",
          "model_module_version": "1.5.0",
          "model_name": "DescriptionStyleModel",
          "state": {
            "_model_module": "@jupyter-widgets/controls",
            "_model_module_version": "1.5.0",
            "_model_name": "DescriptionStyleModel",
            "_view_count": null,
            "_view_module": "@jupyter-widgets/base",
            "_view_module_version": "1.2.0",
            "_view_name": "StyleView",
            "description_width": ""
          }
        },
        "fdc1323015b141f68a87f51a8b64f24a": {
          "model_module": "@jupyter-widgets/base",
          "model_module_version": "1.2.0",
          "model_name": "LayoutModel",
          "state": {
            "_model_module": "@jupyter-widgets/base",
            "_model_module_version": "1.2.0",
            "_model_name": "LayoutModel",
            "_view_count": null,
            "_view_module": "@jupyter-widgets/base",
            "_view_module_version": "1.2.0",
            "_view_name": "LayoutView",
            "align_content": null,
            "align_items": null,
            "align_self": null,
            "border": null,
            "bottom": null,
            "display": null,
            "flex": null,
            "flex_flow": null,
            "grid_area": null,
            "grid_auto_columns": null,
            "grid_auto_flow": null,
            "grid_auto_rows": null,
            "grid_column": null,
            "grid_gap": null,
            "grid_row": null,
            "grid_template_areas": null,
            "grid_template_columns": null,
            "grid_template_rows": null,
            "height": null,
            "justify_content": null,
            "justify_items": null,
            "left": null,
            "margin": null,
            "max_height": null,
            "max_width": null,
            "min_height": null,
            "min_width": null,
            "object_fit": null,
            "object_position": null,
            "order": null,
            "overflow": null,
            "overflow_x": null,
            "overflow_y": null,
            "padding": null,
            "right": null,
            "top": null,
            "visibility": null,
            "width": null
          }
        }
      }
    }
  },
  "nbformat": 4,
  "nbformat_minor": 0
}
